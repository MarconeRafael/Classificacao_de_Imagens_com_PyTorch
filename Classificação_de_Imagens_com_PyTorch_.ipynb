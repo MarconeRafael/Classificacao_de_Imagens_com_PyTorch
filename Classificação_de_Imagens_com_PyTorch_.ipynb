{
  "nbformat": 4,
  "nbformat_minor": 0,
  "metadata": {
    "colab": {
      "provenance": [],
      "include_colab_link": true
    },
    "kernelspec": {
      "name": "python3",
      "display_name": "Python 3"
    },
    "language_info": {
      "name": "python"
    },
    "accelerator": "GPU",
    "gpuClass": "standard"
  },
  "cells": [
    {
      "cell_type": "markdown",
      "metadata": {
        "id": "view-in-github",
        "colab_type": "text"
      },
      "source": [
        "<a href=\"https://colab.research.google.com/github/MarconeRafael/Classificacao_de_Imagens_com_PyTorch/blob/main/Classifica%C3%A7%C3%A3o_de_Imagens_com_PyTorch_.ipynb\" target=\"_parent\"><img src=\"https://colab.research.google.com/assets/colab-badge.svg\" alt=\"Open In Colab\"/></a>"
      ]
    },
    {
      "cell_type": "markdown",
      "source": [
        "# Classificação de Imagens com PyTorch\n",
        "* Importando dataset\n",
        "* Pré-processamento e Visualização\n",
        "* Criando um Modelo\n",
        "* Treinando e Testando o modelo\n",
        "* Visualização dos resultados\n",
        "\n",
        "\n"
      ],
      "metadata": {
        "id": "6IIDevHrmtxJ"
      }
    },
    {
      "cell_type": "code",
      "source": [
        "import torch\n",
        "import torchvision"
      ],
      "metadata": {
        "id": "1C8kBqvfmtPQ"
      },
      "execution_count": null,
      "outputs": []
    },
    {
      "cell_type": "markdown",
      "source": [
        "# Definindo o Dispositivo"
      ],
      "metadata": {
        "id": "RNYRHWh6rSuN"
      }
    },
    {
      "cell_type": "code",
      "source": [
        "torch.device('cuda')"
      ],
      "metadata": {
        "colab": {
          "base_uri": "https://localhost:8080/"
        },
        "id": "pD7JrgrNrRFw",
        "outputId": "feadbec1-a8d5-487c-f4f3-c64954c84a4b"
      },
      "execution_count": null,
      "outputs": [
        {
          "output_type": "execute_result",
          "data": {
            "text/plain": [
              "device(type='cuda')"
            ]
          },
          "metadata": {},
          "execution_count": 2
        }
      ]
    },
    {
      "cell_type": "code",
      "source": [],
      "metadata": {
        "id": "jeCVVavGrdsa"
      },
      "execution_count": null,
      "outputs": []
    },
    {
      "cell_type": "markdown",
      "source": [
        "# Importando Dataset e Normalizando - MINIST"
      ],
      "metadata": {
        "id": "f__IxxGUrfFr"
      }
    },
    {
      "cell_type": "code",
      "source": [
        "from torchvision import transforms\n",
        "\n",
        "transformacao = transforms.Compose([\n",
        "    transforms.ToTensor(),\n",
        "    transforms.Normalize((0.5,), (0.5))\n",
        "])"
      ],
      "metadata": {
        "id": "8S3qhf5rrmn2"
      },
      "execution_count": null,
      "outputs": []
    },
    {
      "cell_type": "code",
      "source": [
        "from torch.nn.modules import transformer\n",
        "dataset_treino = torchvision.datasets.MNIST('./dados', download=True, train=True, transform=transformacao)\n",
        "dataset_teste  = torchvision.datasets.MNIST('./dados', download=True, train=False, transform=transformacao)"
      ],
      "metadata": {
        "colab": {
          "base_uri": "https://localhost:8080/"
        },
        "id": "OypAzGTmsKii",
        "outputId": "7b1e7502-2c2a-410f-c871-e34bfdecc005"
      },
      "execution_count": null,
      "outputs": [
        {
          "output_type": "stream",
          "name": "stdout",
          "text": [
            "Downloading http://yann.lecun.com/exdb/mnist/train-images-idx3-ubyte.gz\n",
            "Downloading http://yann.lecun.com/exdb/mnist/train-images-idx3-ubyte.gz to ./dados/MNIST/raw/train-images-idx3-ubyte.gz\n"
          ]
        },
        {
          "output_type": "stream",
          "name": "stderr",
          "text": [
            "100%|██████████| 9912422/9912422 [00:00<00:00, 107896657.78it/s]\n"
          ]
        },
        {
          "output_type": "stream",
          "name": "stdout",
          "text": [
            "Extracting ./dados/MNIST/raw/train-images-idx3-ubyte.gz to ./dados/MNIST/raw\n",
            "\n",
            "Downloading http://yann.lecun.com/exdb/mnist/train-labels-idx1-ubyte.gz\n",
            "Downloading http://yann.lecun.com/exdb/mnist/train-labels-idx1-ubyte.gz to ./dados/MNIST/raw/train-labels-idx1-ubyte.gz\n"
          ]
        },
        {
          "output_type": "stream",
          "name": "stderr",
          "text": [
            "100%|██████████| 28881/28881 [00:00<00:00, 41541733.14it/s]"
          ]
        },
        {
          "output_type": "stream",
          "name": "stdout",
          "text": [
            "Extracting ./dados/MNIST/raw/train-labels-idx1-ubyte.gz to ./dados/MNIST/raw\n",
            "\n",
            "Downloading http://yann.lecun.com/exdb/mnist/t10k-images-idx3-ubyte.gz\n",
            "Downloading http://yann.lecun.com/exdb/mnist/t10k-images-idx3-ubyte.gz to ./dados/MNIST/raw/t10k-images-idx3-ubyte.gz\n"
          ]
        },
        {
          "output_type": "stream",
          "name": "stderr",
          "text": [
            "\n",
            "100%|██████████| 1648877/1648877 [00:00<00:00, 26277281.33it/s]\n"
          ]
        },
        {
          "output_type": "stream",
          "name": "stdout",
          "text": [
            "Extracting ./dados/MNIST/raw/t10k-images-idx3-ubyte.gz to ./dados/MNIST/raw\n",
            "\n",
            "Downloading http://yann.lecun.com/exdb/mnist/t10k-labels-idx1-ubyte.gz\n",
            "Downloading http://yann.lecun.com/exdb/mnist/t10k-labels-idx1-ubyte.gz to ./dados/MNIST/raw/t10k-labels-idx1-ubyte.gz\n"
          ]
        },
        {
          "output_type": "stream",
          "name": "stderr",
          "text": [
            "100%|██████████| 4542/4542 [00:00<00:00, 16324360.56it/s]\n"
          ]
        },
        {
          "output_type": "stream",
          "name": "stdout",
          "text": [
            "Extracting ./dados/MNIST/raw/t10k-labels-idx1-ubyte.gz to ./dados/MNIST/raw\n",
            "\n"
          ]
        }
      ]
    },
    {
      "cell_type": "markdown",
      "source": [
        "# Visualizando Dados - MNIST"
      ],
      "metadata": {
        "id": "DXLVxO95s35v"
      }
    },
    {
      "cell_type": "code",
      "source": [
        "import matplotlib.pyplot as plt\n",
        "import random\n",
        "\n",
        "fig, axs  = plt.subplots(nrows=1, ncols=9, figsize=(15, 4))\n",
        "\n",
        "for ax in axs:\n",
        "  random_idx = random.randint(0, len(dataset_treino.data))\n",
        "  ax.imshow(dataset_treino.data[random_idx].numpy(), cmap='gray')\n",
        "  ax.set_title(f'Classe: {dataset_treino.targets[random_idx]}', size=12)"
      ],
      "metadata": {
        "colab": {
          "base_uri": "https://localhost:8080/",
          "height": 192
        },
        "id": "-Ud78ngesifs",
        "outputId": "0aa60398-ce87-49e9-c3aa-80d8a32784a0"
      },
      "execution_count": null,
      "outputs": [
        {
          "output_type": "display_data",
          "data": {
            "text/plain": [
              "<Figure size 1500x400 with 9 Axes>"
            ],
            "image/png": "[encoded data removed]"
          },
          "metadata": {}
        }
      ]
    },
    {
      "cell_type": "markdown",
      "source": [
        "# Criando Modelo"
      ],
      "metadata": {
        "id": "C4oYfU2fuMUZ"
      }
    },
    {
      "cell_type": "code",
      "source": [
        "import torch.nn.functional as F\n",
        "\n",
        "class Modelo(torch.nn.Module):\n",
        "  def __init__(self):\n",
        "    super(Modelo, self).__init__()\n",
        "\n",
        "    self.camada_entrada = torch.nn.Linear(28*28, 128)\n",
        "    self.camada_h1      = torch.nn.Linear(128, 64)\n",
        "    self.camada_h2      = torch.nn.Linear(64, 32)\n",
        "    self.camada_saida   = torch.nn.Linear(32, 10)\n",
        "\n",
        "  def forward(self, x):\n",
        "    x = F.relu(self.camada_entrada(x))\n",
        "    x = F.relu(self.camada_h1(x))\n",
        "    x = F.relu(self.camada_h2(x))\n",
        "    x = F.softmax(self.camada_saida(x))\n",
        "\n",
        "    return x\n",
        "\n"
      ],
      "metadata": {
        "id": "gExwQWP-tXch"
      },
      "execution_count": null,
      "outputs": []
    },
    {
      "cell_type": "code",
      "source": [
        "from google.colab import drive\n",
        "drive.mount('/content/drive')"
      ],
      "metadata": {
        "id": "LzU10c6B5oH5",
        "colab": {
          "base_uri": "https://localhost:8080/"
        },
        "outputId": "dc1a746b-fbd6-410c-df1f-5b0593cdf46a"
      },
      "execution_count": 7,
      "outputs": [
        {
          "output_type": "stream",
          "name": "stdout",
          "text": [
            "Mounted at /content/drive\n"
          ]
        }
      ]
    },
    {
      "cell_type": "code",
      "source": [
        "modelo = Modelo()\n",
        "print(modelo)"
      ],
      "metadata": {
        "colab": {
          "base_uri": "https://localhost:8080/"
        },
        "id": "pJkgp33OvinW",
        "outputId": "23251d6e-5a09-464d-b72e-4c8d3d56473f"
      },
      "execution_count": 8,
      "outputs": [
        {
          "output_type": "stream",
          "name": "stdout",
          "text": [
            "Modelo(\n",
            "  (camada_entrada): Linear(in_features=784, out_features=128, bias=True)\n",
            "  (camada_h1): Linear(in_features=128, out_features=64, bias=True)\n",
            "  (camada_h2): Linear(in_features=64, out_features=32, bias=True)\n",
            "  (camada_saida): Linear(in_features=32, out_features=10, bias=True)\n",
            ")\n"
          ]
        }
      ]
    },
    {
      "cell_type": "markdown",
      "source": [
        "# Definindo DataLoader"
      ],
      "metadata": {
        "id": "tRaswek2vu0d"
      }
    },
    {
      "cell_type": "code",
      "source": [
        "from torch.utils.data import DataLoader\n",
        "\n",
        "dados_treino = DataLoader(dataset_treino, batch_size=128, shuffle=True)\n",
        "dados_teste  = DataLoader(dataset_teste,  batch_size=128, shuffle=False)"
      ],
      "metadata": {
        "id": "jOVW-MnOvmah"
      },
      "execution_count": 9,
      "outputs": []
    },
    {
      "cell_type": "markdown",
      "source": [
        "# Definindo Função para Treinamento"
      ],
      "metadata": {
        "id": "cckXqHWIwHwy"
      }
    },
    {
      "cell_type": "code",
      "source": [
        "import numpy as np\n",
        "\n",
        "loss_func  = torch.nn.CrossEntropyLoss()\n",
        "otimizador = torch.optim.Adam(modelo.parameters())\n",
        "\n",
        "def funcao_treinamento(epoch, batch_size):\n",
        "  valor_loss = 0\n",
        "  lista_loss = []\n",
        "  lista_acc  = []\n",
        "\n",
        "  for dados, labels in dados_treino:\n",
        "    dados = dados.view(dados.shape[0], -1)\n",
        "\n",
        "    otimizador.zero_grad()\n",
        "    saida_modelo = modelo(dados)\n",
        "\n",
        "    _, predicoes = torch.max(saida_modelo.data, 1)\n",
        "\n",
        "    loss = loss_func(saida_modelo, labels)\n",
        "    loss.backward()\n",
        "    otimizador.step()\n",
        "\n",
        "    acertos = (predicoes == labels).sum().item()\n",
        "    acc     = acertos/batch_size\n",
        "\n",
        "    lista_acc.append(acc)\n",
        "    lista_loss.append(loss.item())\n",
        "\n",
        "  else:\n",
        "    print(f'Época {epoch} - Loss treino: {np.mean(lista_loss)} Acurácia: {np.mean(lista_acc)}')"
      ],
      "metadata": {
        "id": "NArj0m6KwGSm"
      },
      "execution_count": 10,
      "outputs": []
    },
    {
      "cell_type": "code",
      "source": [
        "for epoch in range(10):\n",
        "  funcao_treinamento(epoch, 128)"
      ],
      "metadata": {
        "colab": {
          "base_uri": "https://localhost:8080/"
        },
        "id": "hDyhY3TLyBkc",
        "outputId": "60a76e0a-6f3a-4ffa-f3d4-e88266ae1fbf"
      },
      "execution_count": 11,
      "outputs": [
        {
          "output_type": "stream",
          "name": "stderr",
          "text": [
            "<ipython-input-6-063e58f877a5>:16: UserWarning: Implicit dimension choice for softmax has been deprecated. Change the call to include dim=X as an argument.\n",
            "  x = F.softmax(self.camada_saida(x))\n"
          ]
        },
        {
          "output_type": "stream",
          "name": "stdout",
          "text": [
            "Época 0 - Loss treino: 1.7634755906774038 Acurácia: 0.7091717750533049\n",
            "Época 1 - Loss treino: 1.5970685807372462 Acurácia: 0.8689199093816631\n",
            "Época 2 - Loss treino: 1.5421834693534542 Acurácia: 0.9219582889125799\n",
            "Época 3 - Loss treino: 1.528876055532427 Acurácia: 0.9343516791044776\n",
            "Época 4 - Loss treino: 1.5190053418246923 Acurácia: 0.9436966950959488\n",
            "Época 5 - Loss treino: 1.5137337474172303 Acurácia: 0.9486773720682303\n",
            "Época 6 - Loss treino: 1.5092210876407908 Acurácia: 0.9529417643923241\n",
            "Época 7 - Loss treino: 1.505654026958734 Acurácia: 0.9562733208955224\n",
            "Época 8 - Loss treino: 1.5018601473460573 Acurácia: 0.9600213219616205\n",
            "Época 9 - Loss treino: 1.4999916489952918 Acurácia: 0.9620369136460555\n"
          ]
        }
      ]
    },
    {
      "cell_type": "markdown",
      "source": [
        "# Testando Modelo"
      ],
      "metadata": {
        "id": "7qG6ndaYy0T6"
      }
    },
    {
      "cell_type": "code",
      "source": [
        "acertos = 0\n",
        "\n",
        "with torch.no_grad():\n",
        "  lista_acertos = []\n",
        "  for dados, labels in dados_teste:\n",
        "    dados = dados.view(dados.shape[0], -1)\n",
        "\n",
        "    saida_modelo = modelo(dados)\n",
        "    _, predicoes = torch.max(saida_modelo.data, 1)\n",
        "    acertos      = (predicoes == labels).sum().item()\n",
        "    lista_acertos.append(acertos/128)\n",
        "\n",
        "print(f'Acurácia Modelo: {100 * np.mean(lista_acertos)}%')"
      ],
      "metadata": {
        "colab": {
          "base_uri": "https://localhost:8080/"
        },
        "id": "E2YixGADyLrV",
        "outputId": "0e495012-7324-427d-8ca1-5fe459d89339"
      },
      "execution_count": 12,
      "outputs": [
        {
          "output_type": "stream",
          "name": "stderr",
          "text": [
            "<ipython-input-6-063e58f877a5>:16: UserWarning: Implicit dimension choice for softmax has been deprecated. Change the call to include dim=X as an argument.\n",
            "  x = F.softmax(self.camada_saida(x))\n"
          ]
        },
        {
          "output_type": "stream",
          "name": "stdout",
          "text": [
            "Acurácia Modelo: 94.87737341772153%\n"
          ]
        }
      ]
    },
    {
      "cell_type": "markdown",
      "source": [
        "# Visualizando resultados"
      ],
      "metadata": {
        "id": "ynWN_C7k0TMS"
      }
    },
    {
      "cell_type": "code",
      "source": [
        "def norm_saida_modelo(saida_modelo):\n",
        "  return (saida_modelo - saida_modelo.min()) / (saida_modelo.max() - saida_modelo.min())"
      ],
      "metadata": {
        "id": "f1hzMeXD1sIF"
      },
      "execution_count": 13,
      "outputs": []
    },
    {
      "cell_type": "code",
      "source": [
        "imagem, labels = next(iter(dados_teste))\n",
        "\n",
        "img = imagem[0].view(1, 784)\n",
        "with torch.no_grad():\n",
        "  saida_modelo = modelo(img)\n",
        "\n",
        "saida_modelo = torch.exp(saida_modelo).numpy()[0]\n",
        "fig, ax      = plt.subplots(nrows=1, ncols=2, figsize=(7, 3))\n",
        "norm_saida   = norm_saida_modelo(saida_modelo)\n",
        "\n",
        "ax[0].imshow(imagem[0].numpy()[0], cmap='gray')\n",
        "ax[1].barh(range(10), norm_saida, ec='k', color='blue')\n",
        "ax[1].set_yticks([0, 1, 2, 3, 4, 5, 6, 7, 8, 9]);\n"
      ],
      "metadata": {
        "colab": {
          "base_uri": "https://localhost:8080/",
          "height": 328
        },
        "id": "MIHfsgXLzrFD",
        "outputId": "dbe5a767-ba2f-4c39-ab67-f3999fa87139"
      },
      "execution_count": 14,
      "outputs": [
        {
          "output_type": "stream",
          "name": "stderr",
          "text": [
            "<ipython-input-6-063e58f877a5>:16: UserWarning: Implicit dimension choice for softmax has been deprecated. Change the call to include dim=X as an argument.\n",
            "  x = F.softmax(self.camada_saida(x))\n"
          ]
        },
        {
          "output_type": "display_data",
          "data": {
            "text/plain": [
              "<Figure size 700x300 with 2 Axes>"
            ],
            "image/png": "[encoded data removed]"
          },
          "metadata": {}
        }
      ]
    },
    {
      "cell_type": "code",
      "source": [],
      "metadata": {
        "id": "-yTHpod00oQU"
      },
      "execution_count": null,
      "outputs": []
    }
  ]
}